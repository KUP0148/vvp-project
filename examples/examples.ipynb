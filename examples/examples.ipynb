{
 "cells": [
  {
   "cell_type": "markdown",
   "metadata": {},
   "source": [
    "# Examples of usage of the package `planetary2d`"
   ]
  },
  {
   "cell_type": "markdown",
   "metadata": {},
   "source": [
    "## Importing the package"
   ]
  },
  {
   "cell_type": "code",
   "execution_count": 1,
   "metadata": {},
   "outputs": [],
   "source": [
    "# You can import the whole package\n",
    "import planetary2d"
   ]
  },
  {
   "cell_type": "code",
   "execution_count": 2,
   "metadata": {},
   "outputs": [],
   "source": [
    "# Or you can import specific utilities\n",
    "from planetary2d import SystemOfBodies, Animator, load_json_data, Randomizer"
   ]
  },
  {
   "cell_type": "markdown",
   "metadata": {},
   "source": [
    "## General notice to usage\n",
    "The function `load_json_data` serves to provide an object of type `SystemOfBodies` with\n",
    "data from a JSON file processed to a custom Python data structure.\n",
    "\n",
    "The class `SystemOfBodies` serves then to provide an easy and comfortable way of setting the\n",
    "parameters of a system of bodies and of interating the object through the time-discretization steps.\n",
    "\n",
    "The class `Animator` serves to provide a user-friendly object which can be used to parametrize the\n",
    "required animation over a system of bodies passed to it and to create or save the animation as needed.\n",
    "\n",
    "Beside the mentioned classes, there is also a class `Randomizer` for generation of random initial conditions of\n",
    "systems of bodies (the data) or a random systems of bodies (the objects themselves). The process of randomization\n",
    "can be parametrized."
   ]
  },
  {
   "cell_type": "markdown",
   "metadata": {},
   "source": [
    "## Using the function `load_json_data`"
   ]
  },
  {
   "cell_type": "code",
   "execution_count": null,
   "metadata": {},
   "outputs": [],
   "source": [
    "# Data for initial conditions of the system of bodies\n",
    "# can be loaded from JSON file if it is properly structured\n",
    "data_valid1 = load_json_data(\"./examples-valid-001.json\")\n",
    "data_valid2 = load_json_data(\"./examples-valid-002.json\")\n",
    "# If it is not, the function raises the following exception:\n",
    "try:\n",
    "    data_invalid = load_json_data(\"./examples-invalid.json\")\n",
    "except RuntimeError as err:\n",
    "    print(f\"Caught a runtime error: {str(err)}\")\n",
    "    "
   ]
  },
  {
   "cell_type": "code",
   "execution_count": null,
   "metadata": {},
   "outputs": [],
   "source": [
    "# The representation of the data loaded by `load_json_data` is\n",
    "# the Python `dict` with a similar structure as that of the JSON\n",
    "print(type(data_valid1))\n",
    "print(data_valid2)\n"
   ]
  },
  {
   "cell_type": "markdown",
   "metadata": {},
   "source": [
    "## Using the class `SystemOfBodies`"
   ]
  },
  {
   "cell_type": "code",
   "execution_count": null,
   "metadata": {},
   "outputs": [],
   "source": [
    "# A system of bodies cannot be created without data as it does not make much sense\n",
    "try:\n",
    "    system_of_bodies = SystemOfBodies()\n",
    "except TypeError as er:\n",
    "    print(str(er))\n"
   ]
  },
  {
   "cell_type": "code",
   "execution_count": 6,
   "metadata": {},
   "outputs": [],
   "source": [
    "# The valid creation of the object follows\n",
    "system_of_bodies1 = SystemOfBodies(data_valid1)\n",
    "# Do not omit the possibility of creating the data in the code\n",
    "system_of_bodies_in_code = SystemOfBodies({'FirstBody': {'position': [1, 0],\n",
    "                                                         'velocity': [7, 0.5],\n",
    "                                                         'mass': 10e11},\n",
    "                                           'SecondBody': {'position': [7, -5.1],\n",
    "                                                          'velocity': [0.1, 35],\n",
    "                                                          'mass': 16.5e13}})\n"
   ]
  },
  {
   "cell_type": "markdown",
   "metadata": {},
   "source": [
    "See the docstring to the constructor of the class."
   ]
  },
  {
   "cell_type": "code",
   "execution_count": 7,
   "metadata": {},
   "outputs": [],
   "source": [
    "# It is important to note that the data itself says nothing about the units\n",
    "# the values are measured in. Therefore, the standard SI system is used by default,\n",
    "# but it can be customized to other units of time, space and mass. This is an important\n",
    "# point because gravitational forces are calculated using the gravitational constant which\n",
    "# must be adjusted to specific units to work correctly with the data.\n",
    "system_of_bodies1 = SystemOfBodies(data_valid1, time_units='millisecs', space_units='mm')\n"
   ]
  },
  {
   "cell_type": "code",
   "execution_count": 8,
   "metadata": {},
   "outputs": [],
   "source": [
    "# No less an important value is the `base_interval` which (in the units of time used)\n",
    "# expresses the length of the period which the time discretization is broken into.\n",
    "system_of_bodies1 = SystemOfBodies(data_valid1, base_interval=0.1)\n"
   ]
  },
  {
   "cell_type": "code",
   "execution_count": 9,
   "metadata": {},
   "outputs": [],
   "source": [
    "# If no history of positions is needed to be tracked, it can be disabled:\n",
    "system_of_bodies2 = SystemOfBodies(data_valid2, no_hist=True)\n"
   ]
  },
  {
   "cell_type": "markdown",
   "metadata": {},
   "source": [
    "There are even several methods in the class."
   ]
  },
  {
   "cell_type": "code",
   "execution_count": 10,
   "metadata": {},
   "outputs": [],
   "source": [
    "# It is possible to use a several methods to manually control\n",
    "# the changes of the system of bodies\n",
    "system_of_bodies1.update_accelerations()  # Calculates new accelerations from the current state of the system\n",
    "system_of_bodies1.update_positions()  # Calculates new positions from the current state of the system\n",
    "system_of_bodies1.update_velocities()  # Calculates new velocities from the current state of the system\n"
   ]
  },
  {
   "cell_type": "code",
   "execution_count": null,
   "metadata": {},
   "outputs": [],
   "source": [
    "# However, it is more convenient to use an iterator over the object,\n",
    "# especially, in a for-each loop (e.g. the iterability is used in animating the system).\n",
    "# Note that the iteration ends after `system_of_bodies.limit` is reached\n",
    "# But the `system_of_bodies` is not affected\n",
    "system_of_bodies1 = SystemOfBodies(data_valid1, limit=5)\n",
    "\n",
    "print(system_of_bodies1.pos[0])  # `system_of_bodies` before iteration\n",
    "\n",
    "for system_state in system_of_bodies1:\n",
    "    print(system_state.pos[0])  # Positions of the first body in the system_of_bodies1 when the system iterates\n",
    "                                # (in the complex notation)\n",
    "\n",
    "print(system_of_bodies1.pos[0])  # `system_of_bodies` after iteration\n"
   ]
  },
  {
   "cell_type": "markdown",
   "metadata": {},
   "source": [
    "## Using the class `Animator`"
   ]
  },
  {
   "cell_type": "code",
   "execution_count": 12,
   "metadata": {},
   "outputs": [],
   "source": [
    "# An animator cannot be created without parameters\n",
    "# There are two required positional arguments\n",
    "animator = Animator(system_of_bodies1, limit=10)\n"
   ]
  },
  {
   "cell_type": "markdown",
   "metadata": {},
   "source": [
    "The first argument is the system of bodies to animate and\n",
    "the second one sets the number of iterations (repretitions of\n",
    "the base interval) to go through in the animation."
   ]
  },
  {
   "cell_type": "code",
   "execution_count": 13,
   "metadata": {},
   "outputs": [],
   "source": [
    "# The class provides large variety of settings\n",
    "# which are documented in the docstrings.\n",
    "# One of more important arguments is the `title` which sets the title\n",
    "# to be shown on top of the animation or the `frame_rate` which sets\n",
    "# how fast the change of figures will be\n",
    "animator0 = Animator(system_of_bodies1, 300, title=\"My Custom Animation\", frame_rate=40)\n"
   ]
  },
  {
   "cell_type": "markdown",
   "metadata": {},
   "source": [
    "The class `Animator` provides two methods:"
   ]
  },
  {
   "cell_type": "code",
   "execution_count": null,
   "metadata": {},
   "outputs": [],
   "source": [
    "# One for showing the animation\n",
    "# which takes no arguments\n",
    "animator7 = Animator(SystemOfBodies(data_valid1, base_interval=86_400), 1000, \"My Custom Animation\", frame_rate=100)\n",
    "animator7.show()"
   ]
  },
  {
   "cell_type": "code",
   "execution_count": 15,
   "metadata": {},
   "outputs": [],
   "source": [
    "# And the other for saving the animation\n",
    "# which takes at least one argument which defines the path\n",
    "# to the output file\n",
    "animator7.save(\"./examples-save-video-000.gif\")"
   ]
  },
  {
   "cell_type": "markdown",
   "metadata": {},
   "source": [
    "There are three output formats of video supported (`gif`, `mp4` and `avi`). Nevertheless,\n",
    "only the `gif` is supported without `ffmpeg` installed in the system."
   ]
  },
  {
   "cell_type": "markdown",
   "metadata": {},
   "source": [
    "## Using a class `Randomizer`"
   ]
  },
  {
   "cell_type": "code",
   "execution_count": 16,
   "metadata": {},
   "outputs": [],
   "source": [
    "# A randomizer can be created without any arguments\n",
    "randomizer = Randomizer()\n"
   ]
  },
  {
   "cell_type": "code",
   "execution_count": 17,
   "metadata": {},
   "outputs": [],
   "source": [
    "# However, if you prefer a customization of the randomizer, you can pass\n",
    "# arguments specifying the intervals within which the values should range\n",
    "randomizer2 = Randomizer(bodies_count_range=(100, 200),\n",
    "                         positions_range=((-400.5, 301.3), (-302.17, 405.78)))\n"
   ]
  },
  {
   "cell_type": "markdown",
   "metadata": {},
   "source": [
    "The class `Randomizer` provides two methods:"
   ]
  },
  {
   "cell_type": "code",
   "execution_count": null,
   "metadata": {},
   "outputs": [],
   "source": [
    "# The first is based on generating data as a dictionary\n",
    "# which can be passed to the constructor of the `SystemOfBodies`\n",
    "dict_data = randomizer.generate_data()\n",
    "print(dict_data)\n"
   ]
  },
  {
   "cell_type": "code",
   "execution_count": null,
   "metadata": {},
   "outputs": [],
   "source": [
    "# The second method is only a shorthand for generating\n",
    "# the dictionary and creating the system of bodies in one line.\n",
    "# Note that it takes any keyword argument of the constructor of\n",
    "# `SystemOfBodies` and passes it to the constructor\n",
    "system_of_bodies4 = randomizer.generate_bodies_system(base_interval=0.1, no_hist=True)\n",
    "print(system_of_bodies4.Δt)  # This is the base_interval !\n",
    "print(system_of_bodies4.no_hist)  # This is the no_hist !\n"
   ]
  },
  {
   "cell_type": "markdown",
   "metadata": {},
   "source": [
    "## A few examples of the versatility of the framework"
   ]
  },
  {
   "cell_type": "markdown",
   "metadata": {},
   "source": [
    "Example 1"
   ]
  },
  {
   "cell_type": "code",
   "execution_count": null,
   "metadata": {},
   "outputs": [],
   "source": [
    "# Create a system of bodies from a file\n",
    "bodies_sys = SystemOfBodies(load_json_data(\"./examples-valid-001.json\"), base_interval=86_400)\n",
    "# Create the animator\n",
    "planets_clrs = ['yellow', 'red', 'red', 'green',\n",
    "                'orange', 'orange', 'gray', 'blue', 'blue']\n",
    "animator1 = Animator(bodies_sys, 1000, frame_rate=100,\n",
    "              traj_colors=planets_clrs, bdy_colors=planets_clrs, label_color='white',\n",
    "              bdy_sizes=[40., 2., 2., 10., 10., 40., 30., 20., 20.],\n",
    "              xlimits=(-5e12, 5e12), ylimits=(-1e12, 1e12), title=\"Animation example 1\")\n",
    "# Animate interactively\n",
    "animator1.show()\n",
    "# Save the animation\n",
    "animator1.save(\"./examples-save-video-001.gif\")\n"
   ]
  },
  {
   "cell_type": "markdown",
   "metadata": {},
   "source": [
    "Example 2"
   ]
  },
  {
   "cell_type": "code",
   "execution_count": null,
   "metadata": {},
   "outputs": [],
   "source": [
    "# Create a system of bodies from a file\n",
    "bodies_sys2 = SystemOfBodies(load_json_data(\"./examples-valid-001.json\"), base_interval=86_400)\n",
    "# Create the animator\n",
    "planets_clrs = ['yellow', 'red', 'red', 'green',\n",
    "                'orange', 'orange', 'gray', 'blue', 'blue']\n",
    "animator2 = Animator(bodies_sys2, no_units=True, limit=1000, frame_rate=100,\n",
    "              traj_colors=planets_clrs, bdy_colors=planets_clrs, label_color='black',\n",
    "              bdy_sizes=[40., 2., 2., 10., 10., 40., 30., 20., 20.],\n",
    "              xlimits=(-5e12, 5e12), ylimits=(-1e12, 1e12), show_axes=False,\n",
    "              dark_bg=False, title=\"Animation example 2\")\n",
    "# Animate interactively\n",
    "animator2.show()\n",
    "# Save the animation\n",
    "animator2.save(\"./examples-save-video-002.gif\")\n"
   ]
  },
  {
   "cell_type": "markdown",
   "metadata": {},
   "source": [
    "Example 3"
   ]
  },
  {
   "cell_type": "code",
   "execution_count": 22,
   "metadata": {},
   "outputs": [],
   "source": [
    "# Create a randomizer\n",
    "randomizer3 = Randomizer((7, 50))\n",
    "# Create a system of bodies the random data\n",
    "bodies_sys3 = SystemOfBodies(randomizer3.generate_data(), base_interval=86_400)\n",
    "# Create the animator\n",
    "animator3 = Animator(bodies_sys3, no_units=True, limit=1000, frame_rate=100,\n",
    "              traj_colors='red', bdy_colors='orange', label_color='white',\n",
    "              show_axes=True, dark_bg=True, title=\"Animation example 3\")\n",
    "# Animate interactively\n",
    "animator3.show()\n",
    "# Save the animation\n",
    "animator3.save(\"./examples-save-video-003.gif\")\n"
   ]
  },
  {
   "cell_type": "markdown",
   "metadata": {},
   "source": [
    "Example 4"
   ]
  },
  {
   "cell_type": "code",
   "execution_count": null,
   "metadata": {},
   "outputs": [],
   "source": [
    "# Create a randomizer\n",
    "randomizer4 = Randomizer((7, 50), velocities_range=((-10, 10), (-10, 10)))\n",
    "# Create a system of bodies the random data\n",
    "bodies_sys4 = randomizer4.generate_bodies_system(base_interval=86_400)\n",
    "# Create the animator\n",
    "animator4 = Animator(bodies_sys4, limit=1000, frame_rate=100,\n",
    "              traj_colors='red', bdy_colors='orange', label_color='white',\n",
    "              show_grid=False, title=\"Animation example 4\")\n",
    "# Animate interactively\n",
    "animator4.show()\n",
    "# Save the animation\n",
    "animator4.save(\"./examples-save-video-004.gif\")\n"
   ]
  }
 ],
 "metadata": {
  "kernelspec": {
   "display_name": ".venv",
   "language": "python",
   "name": "python3"
  },
  "language_info": {
   "codemirror_mode": {
    "name": "ipython",
    "version": 3
   },
   "file_extension": ".py",
   "mimetype": "text/x-python",
   "name": "python",
   "nbconvert_exporter": "python",
   "pygments_lexer": "ipython3",
   "version": "3.11.2"
  }
 },
 "nbformat": 4,
 "nbformat_minor": 2
}
